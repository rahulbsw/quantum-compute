{
  "nbformat": 4,
  "nbformat_minor": 0,
  "metadata": {
    "colab": {
      "provenance": [],
      "include_colab_link": true
    },
    "kernelspec": {
      "name": "python3",
      "display_name": "Python 3"
    },
    "language_info": {
      "name": "python"
    }
  },
  "cells": [
    {
      "cell_type": "markdown",
      "metadata": {
        "id": "view-in-github",
        "colab_type": "text"
      },
      "source": [
        "<a href=\"https://colab.research.google.com/github/rahulbsw/quantum-compute/blob/main/QC.ipynb\" target=\"_parent\"><img src=\"https://colab.research.google.com/assets/colab-badge.svg\" alt=\"Open In Colab\"/></a>"
      ]
    },
    {
      "cell_type": "markdown",
      "source": [],
      "metadata": {
        "id": "GIN7uZhUWPiy"
      }
    },
    {
      "cell_type": "markdown",
      "metadata": {
        "id": "72b05d48"
      },
      "source": [
        "This notebook demonstrates how to create and execute a simple quantum circuit using Qiskit and the IBM Quantum Platform."
      ]
    },
    {
      "cell_type": "markdown",
      "metadata": {
        "id": "a8206f82"
      },
      "source": [
        "### Load IBM Quantum Credentials\n",
        "\n",
        "This cell loads the necessary credentials for accessing the IBM Quantum Platform from Colab's secrets manager."
      ]
    },
    {
      "cell_type": "markdown",
      "metadata": {
        "id": "b0e47609"
      },
      "source": [
        "### Install Required Libraries\n",
        "\n",
        "This cell installs the necessary Python libraries for quantum computing with Qiskit and interacting with the IBM Quantum Platform."
      ]
    },
    {
      "cell_type": "markdown",
      "metadata": {
        "id": "4a6dbbae"
      },
      "source": [
        "### Save IBM Quantum Account Credentials\n",
        "\n",
        "This cell saves your IBM Quantum account credentials to allow Qiskit to authenticate with the IBM Quantum Platform."
      ]
    },
    {
      "cell_type": "markdown",
      "metadata": {
        "id": "ffc8912a"
      },
      "source": [
        "### Create a Quantum Circuit\n",
        "\n",
        "This cell defines a simple two-qubit quantum circuit with a Hadamard gate on the first qubit and a controlled-X gate between the two qubits."
      ]
    },
    {
      "cell_type": "markdown",
      "metadata": {
        "id": "eeec57b9"
      },
      "source": [
        "### Define Observables\n",
        "\n",
        "This cell defines a list of Pauli observables to be measured on the quantum circuit."
      ]
    },
    {
      "cell_type": "markdown",
      "metadata": {
        "id": "787cebdd"
      },
      "source": [
        "### Initialize Qiskit Runtime Service and Select Backend\n",
        "\n",
        "This cell initializes the Qiskit Runtime service and selects the least busy available quantum backend (a real quantum device, not a simulator) to run the circuit on. It also generates a pass manager for transpiling the circuit to the target backend."
      ]
    },
    {
      "cell_type": "markdown",
      "metadata": {
        "id": "4db7b26c"
      },
      "source": [
        "### Transpile the Circuit\n",
        "\n",
        "This cell transpiles the quantum circuit to the instruction set architecture (ISA) of the selected backend. This optimizes the circuit for execution on the specific hardware."
      ]
    },
    {
      "cell_type": "markdown",
      "metadata": {
        "id": "d7c913c3"
      },
      "source": [
        "### Execute the Circuit on the Backend\n",
        "\n",
        "This cell initializes the Estimator primitive and runs the transpiled circuit with the defined observables on the selected backend. It prints the job ID for tracking the execution."
      ]
    },
    {
      "cell_type": "markdown",
      "metadata": {
        "id": "a34e8264"
      },
      "source": [
        "### Retrieve Job Result\n",
        "\n",
        "This cell retrieves the results of the quantum job executed in the previous cell."
      ]
    },
    {
      "cell_type": "markdown",
      "metadata": {
        "id": "b07e4472"
      },
      "source": [
        "### Extract Pub Result\n",
        "\n",
        "This cell extracts the result of the first (and in this case, only) publication from the job result."
      ]
    },
    {
      "cell_type": "markdown",
      "metadata": {
        "id": "446d1a34"
      },
      "source": [
        "### Plot Results\n",
        "\n",
        "This cell extracts the expectation values and standard deviations from the results and plots the expectation values for each observable."
      ]
    },
    {
      "cell_type": "markdown",
      "metadata": {
        "id": "1ea96c9b"
      },
      "source": [
        "This cell loads the necessary credentials for accessing the IBM Quantum Platform from Colab's secrets manager."
      ]
    },
    {
      "cell_type": "code",
      "metadata": {
        "id": "7c81a3ff"
      },
      "source": [
        "from google.colab import userdata\n",
        "token=userdata.get('IBMQuantumAPIKey')\n",
        "instance_crn=userdata.get('IBMInstance_CRN')\n",
        "region=\"us-east\"\n",
        "account_name=userdata.get('IBMAccount')"
      ],
      "execution_count": null,
      "outputs": []
    },
    {
      "cell_type": "markdown",
      "metadata": {
        "id": "2f933f06"
      },
      "source": [
        "This cell installs the necessary Python libraries for quantum computing with Qiskit and interacting with the IBM Quantum Platform."
      ]
    },
    {
      "cell_type": "code",
      "metadata": {
        "id": "2d7ac4b5"
      },
      "source": [
        "!pip install qiskit\n",
        "!pip install qiskit_ibm_runtime\n",
        "!pip install pylatexenc\n",
        "!pip install qiskit[visualization] matplotlib"
      ],
      "execution_count": null,
      "outputs": []
    },
    {
      "cell_type": "markdown",
      "metadata": {
        "id": "1e98e585"
      },
      "source": [
        "This cell saves your IBM Quantum account credentials to allow Qiskit to authenticate with the IBM Quantum Platform."
      ]
    },
    {
      "cell_type": "code",
      "metadata": {
        "id": "8bdc8169"
      },
      "source": [
        "from qiskit_ibm_runtime import QiskitRuntimeService\n",
        "QiskitRuntimeService.save_account(\n",
        "  token=token, # Your token is confidential.\n",
        "  # Do not share your token in public code.\n",
        "  instance=instance_crn, # Optionally specify the instance to use.\n",
        "  #plans_preference=\"['plan-type1', 'plan-type2']\", # Optionally set the types of plans to prioritize.  This is ignored if the instance is specified.\n",
        "  region=region, # Optionally set the region to prioritize. This is ignored if the instance is specified.\n",
        "  #name=account_name, # Optionally name this set of account credentials.\n",
        "  set_as_default=True, # Optionally set these as your default credentials.\n",
        ")"
      ],
      "execution_count": null,
      "outputs": []
    },
    {
      "cell_type": "markdown",
      "metadata": {
        "id": "32a356b6"
      },
      "source": [
        "This cell defines a simple two-qubit quantum circuit with a Hadamard gate on the first qubit and a controlled-X gate between the two qubits."
      ]
    },
    {
      "cell_type": "code",
      "metadata": {
        "colab": {
          "base_uri": "https://localhost:8080/",
          "height": 191
        },
        "id": "9f737dec",
        "outputId": "0732bfa7-8525-46a7-af67-8dd54683b21d"
      },
      "source": [
        "from qiskit import QuantumCircuit\n",
        "from qiskit.quantum_info import SparsePauliOp\n",
        "from qiskit.transpiler import generate_preset_pass_manager\n",
        "from qiskit_ibm_runtime import EstimatorV2 as Estimator\n",
        "\n",
        "# Create a new circuit with two qubits\n",
        "qc = QuantumCircuit(2)\n",
        "\n",
        "# Add a Hadamard gate to qubit 0\n",
        "qc.h(0)\n",
        "\n",
        "# Perform a controlled-X gate on qubit 1, controlled by qubit 0\n",
        "qc.cx(0, 1)\n",
        "\n",
        "# Return a drawing of the circuit using MatPlotLib (\"mpl\").\n",
        "# These guides are written by using Jupyter notebooks, which\n",
        "# display the output of the last line of each cell.\n",
        "# If you're running this in a script, use `print(qc.draw())` to\n",
        "# print a text drawing.\n",
        "qc.draw(\"mpl\")"
      ],
      "execution_count": 25,
      "outputs": [
        {
          "output_type": "execute_result",
          "data": {
            "text/plain": [
              "<Figure size 287.294x200.667 with 1 Axes>"
            ],
            "image/png": "[encoded data removed]"
          },
          "metadata": {},
          "execution_count": 25
        }
      ]
    },
    {
      "cell_type": "markdown",
      "metadata": {
        "id": "3dc5d88c"
      },
      "source": [
        "This cell defines a list of Pauli observables to be measured on the quantum circuit."
      ]
    },
    {
      "cell_type": "code",
      "metadata": {
        "id": "c325b555"
      },
      "source": [
        "observables_labels=[\"IZ\", \"IX\", \"ZI\", \"XI\", \"ZZ\", \"XX\"]\n",
        "observables = [SparsePauliOp(label) for label in observables_labels]"
      ],
      "execution_count": 26,
      "outputs": []
    },
    {
      "cell_type": "markdown",
      "metadata": {
        "id": "950ccc3d"
      },
      "source": [
        "This cell initializes the Qiskit Runtime service and selects the least busy available quantum backend (a real quantum device, not a simulator) to run the circuit on. It also generates a pass manager for transpiling the circuit to the target backend."
      ]
    },
    {
      "cell_type": "code",
      "metadata": {
        "colab": {
          "base_uri": "https://localhost:8080/",
          "height": 204
        },
        "id": "0f53450e",
        "outputId": "e9cef9e8-48da-442d-b359-5d45bfd1d68b"
      },
      "source": [
        "from qiskit_ibm_runtime import QiskitRuntimeService\n",
        "service = QiskitRuntimeService()\n",
        "\n",
        "backend = service.least_busy(simulator=False, operational=True)\n",
        "\n",
        "pm = generate_preset_pass_manager(backend=backend, optimization_level=1)\n",
        "\n",
        "isa_circuit = pm.run(qc)\n",
        "\n",
        "isa_circuit.draw(\"mpl\", idle_wires=False)"
      ],
      "execution_count": 27,
      "outputs": [
        {
          "output_type": "execute_result",
          "data": {
            "text/plain": [
              "<Figure size 757.83x200.667 with 1 Axes>"
            ],
            "image/png": "[encoded data removed]"
          },
          "metadata": {},
          "execution_count": 27
        }
      ]
    },
    {
      "cell_type": "markdown",
      "metadata": {
        "id": "79289f55"
      },
      "source": [
        "This cell transpiles the quantum circuit to the instruction set architecture (ISA) of the selected backend. This optimizes the circuit for execution on the specific hardware."
      ]
    },
    {
      "cell_type": "code",
      "metadata": {
        "id": "459694e9"
      },
      "source": [
        "# This cell was previously generated and accepted by the user.\n",
        "# It is included here for completeness, but no changes were made."
      ],
      "execution_count": 28,
      "outputs": []
    },
    {
      "cell_type": "markdown",
      "metadata": {
        "id": "dd2ffc05"
      },
      "source": [
        "This cell initializes the Estimator primitive and runs the transpiled circuit with the defined observables on the selected backend. It prints the job ID for tracking the execution."
      ]
    },
    {
      "cell_type": "code",
      "metadata": {
        "colab": {
          "base_uri": "https://localhost:8080/"
        },
        "id": "23ba7bc6",
        "outputId": "d4dbba7d-d403-4f5b-8c5e-7614f36f0f62"
      },
      "source": [
        "estimator = Estimator(mode=backend)\n",
        "estimator.options.resilience_level=1\n",
        "estimator.options.default_shots=5000\n",
        "\n",
        "mapped_observables = [\n",
        "    observable.apply_layout(isa_circuit.layout) for observable in observables\n",
        "]\n",
        "\n",
        "# One pub, with one circuit to run against five different observables.\n",
        "job = estimator.run([(isa_circuit, mapped_observables)])\n",
        "\n",
        "# Use the job ID to retrieve your job data later\n",
        "print(f\">>> Job ID: {job.job_id()}\")"
      ],
      "execution_count": 29,
      "outputs": [
        {
          "output_type": "stream",
          "name": "stdout",
          "text": [
            ">>> Job ID: d2dsge7fodsc73bfupg0\n"
          ]
        }
      ]
    },
    {
      "cell_type": "markdown",
      "metadata": {
        "id": "65dc8110"
      },
      "source": [
        "This cell retrieves the results of the quantum job executed in the previous cell."
      ]
    },
    {
      "cell_type": "code",
      "metadata": {
        "colab": {
          "base_uri": "https://localhost:8080/"
        },
        "id": "a91702fa",
        "outputId": "ca100ae3-9d04-4f67-e445-a21c4c0ee34f"
      },
      "source": [
        "job.result()"
      ],
      "execution_count": 30,
      "outputs": [
        {
          "output_type": "execute_result",
          "data": {
            "text/plain": [
              "PrimitiveResult([PubResult(data=DataBin(evs=np.ndarray(<shape=(6,), dtype=float64>), stds=np.ndarray(<shape=(6,), dtype=float64>), ensemble_standard_error=np.ndarray(<shape=(6,), dtype=float64>), shape=(6,)), metadata={'shots': 5024, 'target_precision': 0.01414213562373095, 'circuit_metadata': {}, 'resilience': {}, 'num_randomizations': 32})], metadata={'dynamical_decoupling': {'enable': False, 'sequence_type': 'XX', 'extra_slack_distribution': 'middle', 'scheduling_method': 'alap'}, 'twirling': {'enable_gates': False, 'enable_measure': True, 'num_randomizations': 'auto', 'shots_per_randomization': 'auto', 'interleave_randomizations': True, 'strategy': 'active-accum'}, 'resilience': {'measure_mitigation': True, 'zne_mitigation': False, 'pec_mitigation': False}, 'version': 2})"
            ]
          },
          "metadata": {},
          "execution_count": 30
        }
      ]
    },
    {
      "cell_type": "markdown",
      "metadata": {
        "id": "357f2c65"
      },
      "source": [
        "This cell extracts the result of the first (and in this case, only) publication from the job result."
      ]
    },
    {
      "cell_type": "code",
      "metadata": {
        "id": "cf026304"
      },
      "source": [
        "pub_result = job.result()[0]"
      ],
      "execution_count": 31,
      "outputs": []
    },
    {
      "cell_type": "markdown",
      "metadata": {
        "id": "0c8d76c9"
      },
      "source": [
        "This cell extracts the expectation values and standard deviations from the results and plots the expectation values for each observable."
      ]
    },
    {
      "cell_type": "code",
      "metadata": {
        "colab": {
          "base_uri": "https://localhost:8080/",
          "height": 449
        },
        "id": "338df071",
        "outputId": "4f262cf4-a41f-4eff-9d40-7ed34fa72623"
      },
      "source": [
        "# Plot the result\n",
        "\n",
        "from matplotlib import pyplot as plt\n",
        "\n",
        "values = pub_result.data.evs\n",
        "\n",
        "errors = pub_result.data.evs\n",
        "\n",
        "# plotting graph\n",
        "plt.plot(observables_labels, values, \"-o\")\n",
        "plt.xlabel(\"Observables\")\n",
        "plt.ylabel(\"Values\")\n",
        "plt.show()"
      ],
      "execution_count": 32,
      "outputs": [
        {
          "output_type": "display_data",
          "data": {
            "text/plain": [
              "<Figure size 640x480 with 1 Axes>"
            ],
            "image/png": "[encoded data removed]"
          },
          "metadata": {}
        }
      ]
    }
  ]
}